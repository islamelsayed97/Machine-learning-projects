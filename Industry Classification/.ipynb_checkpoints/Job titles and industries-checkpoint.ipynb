{
 "cells": [
  {
   "cell_type": "markdown",
   "id": "0b9abc22",
   "metadata": {},
   "source": [
    "### 1.Import required packages  "
   ]
  },
  {
   "cell_type": "code",
   "execution_count": 1,
   "id": "21e73361",
   "metadata": {},
   "outputs": [],
   "source": [
    "import pandas as pd\n",
    "from sklearn.feature_extraction.text import TfidfVectorizer\n",
    "from sklearn.model_selection import train_test_split\n",
    "from sklearn.naive_bayes import MultinomialNB\n",
    "from sklearn.metrics import confusion_matrix, classification_report, f1_score\n",
    "import re\n",
    "from nltk.corpus import stopwords\n",
    "import matplotlib.pyplot as plt"
   ]
  },
  {
   "cell_type": "markdown",
   "id": "c891277b",
   "metadata": {},
   "source": [
    "### 2.Loading the data"
   ]
  },
  {
   "cell_type": "code",
   "execution_count": 2,
   "id": "e6a1ff19",
   "metadata": {},
   "outputs": [
    {
     "data": {
      "text/html": [
       "<div>\n",
       "<style scoped>\n",
       "    .dataframe tbody tr th:only-of-type {\n",
       "        vertical-align: middle;\n",
       "    }\n",
       "\n",
       "    .dataframe tbody tr th {\n",
       "        vertical-align: top;\n",
       "    }\n",
       "\n",
       "    .dataframe thead th {\n",
       "        text-align: right;\n",
       "    }\n",
       "</style>\n",
       "<table border=\"1\" class=\"dataframe\">\n",
       "  <thead>\n",
       "    <tr style=\"text-align: right;\">\n",
       "      <th></th>\n",
       "      <th>job title</th>\n",
       "      <th>industry</th>\n",
       "    </tr>\n",
       "  </thead>\n",
       "  <tbody>\n",
       "    <tr>\n",
       "      <th>0</th>\n",
       "      <td>technical support and helpdesk supervisor - co...</td>\n",
       "      <td>IT</td>\n",
       "    </tr>\n",
       "    <tr>\n",
       "      <th>1</th>\n",
       "      <td>senior technical support engineer</td>\n",
       "      <td>IT</td>\n",
       "    </tr>\n",
       "    <tr>\n",
       "      <th>2</th>\n",
       "      <td>head of it services</td>\n",
       "      <td>IT</td>\n",
       "    </tr>\n",
       "    <tr>\n",
       "      <th>3</th>\n",
       "      <td>js front end engineer</td>\n",
       "      <td>IT</td>\n",
       "    </tr>\n",
       "    <tr>\n",
       "      <th>4</th>\n",
       "      <td>network and telephony controller</td>\n",
       "      <td>IT</td>\n",
       "    </tr>\n",
       "  </tbody>\n",
       "</table>\n",
       "</div>"
      ],
      "text/plain": [
       "                                           job title industry\n",
       "0  technical support and helpdesk supervisor - co...       IT\n",
       "1                  senior technical support engineer       IT\n",
       "2                                head of it services       IT\n",
       "3                              js front end engineer       IT\n",
       "4                   network and telephony controller       IT"
      ]
     },
     "execution_count": 2,
     "metadata": {},
     "output_type": "execute_result"
    }
   ],
   "source": [
    "Job_titles = pd.read_csv('Job titles and industries.csv')\n",
    "Job_titles.head()"
   ]
  },
  {
   "cell_type": "markdown",
   "id": "3735b6fb",
   "metadata": {},
   "source": [
    "## 3. Exploring the data\n",
    "\n",
    "\n",
    "**3.1 data dimensions**"
   ]
  },
  {
   "cell_type": "code",
   "execution_count": 3,
   "id": "f5cc05de",
   "metadata": {},
   "outputs": [
    {
     "data": {
      "text/plain": [
       "(8586, 2)"
      ]
     },
     "execution_count": 3,
     "metadata": {},
     "output_type": "execute_result"
    }
   ],
   "source": [
    "Job_titles.shape"
   ]
  },
  {
   "cell_type": "markdown",
   "id": "0b24fc14",
   "metadata": {},
   "source": [
    "**3.2 duplicates**"
   ]
  },
  {
   "cell_type": "code",
   "execution_count": 4,
   "id": "22de63b4",
   "metadata": {},
   "outputs": [
    {
     "data": {
      "text/plain": [
       "4618"
      ]
     },
     "execution_count": 4,
     "metadata": {},
     "output_type": "execute_result"
    }
   ],
   "source": [
    "Job_titles.duplicated().sum()"
   ]
  },
  {
   "cell_type": "markdown",
   "id": "6af7b3a0",
   "metadata": {},
   "source": [
    "    Ooh, Almost half of the data is duplicated"
   ]
  },
  {
   "cell_type": "markdown",
   "id": "6365f842",
   "metadata": {},
   "source": [
    "**3.3 Exploring the target**"
   ]
  },
  {
   "cell_type": "code",
   "execution_count": 5,
   "id": "b0154f9d",
   "metadata": {},
   "outputs": [
    {
     "data": {
      "image/png": "[encoded data removed]",
      "text/plain": [
       "<Figure size 432x288 with 1 Axes>"
      ]
     },
     "metadata": {
      "needs_background": "light"
     },
     "output_type": "display_data"
    }
   ],
   "source": [
    "Job_titles['industry'].value_counts().plot.barh()\n",
    "plt.ylabel('industry')\n",
    "plt.xlabel('Count')\n",
    "plt.title('The Count of each industry')\n",
    "plt.show()"
   ]
  },
  {
   "cell_type": "markdown",
   "id": "30a2c248",
   "metadata": {},
   "source": [
    "The data is imbalanced!, we have to deal with that."
   ]
  },
  {
   "cell_type": "markdown",
   "id": "33be6d23",
   "metadata": {},
   "source": [
    "**3.4 stop words**\n",
    "\n",
    "    There are some words that do not affect the type of job, such as prepositions, pronouns and other words like 'and, or etc...' \n",
    "\n",
    "    these are called stop words, let's explore them in our data"
   ]
  },
  {
   "cell_type": "code",
   "execution_count": 6,
   "id": "08b8e93c",
   "metadata": {},
   "outputs": [
    {
     "data": {
      "text/html": [
       "<div>\n",
       "<style scoped>\n",
       "    .dataframe tbody tr th:only-of-type {\n",
       "        vertical-align: middle;\n",
       "    }\n",
       "\n",
       "    .dataframe tbody tr th {\n",
       "        vertical-align: top;\n",
       "    }\n",
       "\n",
       "    .dataframe thead th {\n",
       "        text-align: right;\n",
       "    }\n",
       "</style>\n",
       "<table border=\"1\" class=\"dataframe\">\n",
       "  <thead>\n",
       "    <tr style=\"text-align: right;\">\n",
       "      <th></th>\n",
       "      <th>job title</th>\n",
       "      <th>stopwords</th>\n",
       "    </tr>\n",
       "  </thead>\n",
       "  <tbody>\n",
       "    <tr>\n",
       "      <th>0</th>\n",
       "      <td>technical support and helpdesk supervisor - co...</td>\n",
       "      <td>1</td>\n",
       "    </tr>\n",
       "    <tr>\n",
       "      <th>1</th>\n",
       "      <td>senior technical support engineer</td>\n",
       "      <td>0</td>\n",
       "    </tr>\n",
       "    <tr>\n",
       "      <th>2</th>\n",
       "      <td>head of it services</td>\n",
       "      <td>2</td>\n",
       "    </tr>\n",
       "    <tr>\n",
       "      <th>3</th>\n",
       "      <td>js front end engineer</td>\n",
       "      <td>0</td>\n",
       "    </tr>\n",
       "    <tr>\n",
       "      <th>4</th>\n",
       "      <td>network and telephony controller</td>\n",
       "      <td>1</td>\n",
       "    </tr>\n",
       "  </tbody>\n",
       "</table>\n",
       "</div>"
      ],
      "text/plain": [
       "                                           job title  stopwords\n",
       "0  technical support and helpdesk supervisor - co...          1\n",
       "1                  senior technical support engineer          0\n",
       "2                                head of it services          2\n",
       "3                              js front end engineer          0\n",
       "4                   network and telephony controller          1"
      ]
     },
     "execution_count": 6,
     "metadata": {},
     "output_type": "execute_result"
    }
   ],
   "source": [
    "stop_words = stopwords.words('english')\n",
    "\n",
    "Job_titles['stopwords'] = Job_titles['job title'].apply(lambda x: len([x for x in x.split() if x in stop_words]))\n",
    "Job_titles[['job title','stopwords']].head()"
   ]
  },
  {
   "cell_type": "markdown",
   "id": "b718adc8",
   "metadata": {},
   "source": [
    "There are some stop words that need to be removed.\n",
    "\n",
    "**Note**: in the third record, 'it' is considered as stop word because it's the same spelling as the pronoun 'it', but here it's an abbreviation for 'Informatoin Technology' and the presence of this word in the job title means that the job belongs to the IT industry, so we have not to omitted this word."
   ]
  },
  {
   "cell_type": "markdown",
   "id": "1cb39d24",
   "metadata": {},
   "source": [
    "**3.5 numbers in the job title**"
   ]
  },
  {
   "cell_type": "code",
   "execution_count": 7,
   "id": "7ff5bf23",
   "metadata": {},
   "outputs": [
    {
     "data": {
      "text/html": [
       "<div>\n",
       "<style scoped>\n",
       "    .dataframe tbody tr th:only-of-type {\n",
       "        vertical-align: middle;\n",
       "    }\n",
       "\n",
       "    .dataframe tbody tr th {\n",
       "        vertical-align: top;\n",
       "    }\n",
       "\n",
       "    .dataframe thead th {\n",
       "        text-align: right;\n",
       "    }\n",
       "</style>\n",
       "<table border=\"1\" class=\"dataframe\">\n",
       "  <thead>\n",
       "    <tr style=\"text-align: right;\">\n",
       "      <th></th>\n",
       "      <th>job title</th>\n",
       "      <th>industry</th>\n",
       "      <th>stopwords</th>\n",
       "    </tr>\n",
       "  </thead>\n",
       "  <tbody>\n",
       "    <tr>\n",
       "      <th>0</th>\n",
       "      <td>technical support and helpdesk supervisor - co...</td>\n",
       "      <td>IT</td>\n",
       "      <td>1</td>\n",
       "    </tr>\n",
       "    <tr>\n",
       "      <th>6</th>\n",
       "      <td>devops engineers x 3 - global brand</td>\n",
       "      <td>IT</td>\n",
       "      <td>0</td>\n",
       "    </tr>\n",
       "    <tr>\n",
       "      <th>7</th>\n",
       "      <td>devops engineers x 3 - global brand</td>\n",
       "      <td>IT</td>\n",
       "      <td>0</td>\n",
       "    </tr>\n",
       "    <tr>\n",
       "      <th>9</th>\n",
       "      <td>php web developer £45,000 based in london</td>\n",
       "      <td>IT</td>\n",
       "      <td>1</td>\n",
       "    </tr>\n",
       "    <tr>\n",
       "      <th>10</th>\n",
       "      <td>devops engineers x 3 - global brand</td>\n",
       "      <td>IT</td>\n",
       "      <td>0</td>\n",
       "    </tr>\n",
       "  </tbody>\n",
       "</table>\n",
       "</div>"
      ],
      "text/plain": [
       "                                            job title industry  stopwords\n",
       "0   technical support and helpdesk supervisor - co...       IT          1\n",
       "6                 devops engineers x 3 - global brand       IT          0\n",
       "7                 devops engineers x 3 - global brand       IT          0\n",
       "9           php web developer £45,000 based in london       IT          1\n",
       "10                devops engineers x 3 - global brand       IT          0"
      ]
     },
     "execution_count": 7,
     "metadata": {},
     "output_type": "execute_result"
    }
   ],
   "source": [
    "# checking for job titles that have numbers\n",
    "Job_titles[Job_titles['job title'].str.contains('[0-9]')].head()"
   ]
  },
  {
   "cell_type": "markdown",
   "id": "9c3331f3",
   "metadata": {},
   "source": [
    "I think numbers don't affect here, so we need to remove them."
   ]
  },
  {
   "cell_type": "markdown",
   "id": "42759647",
   "metadata": {},
   "source": [
    "**3.6 special words**"
   ]
  },
  {
   "cell_type": "code",
   "execution_count": 8,
   "id": "356d90b5",
   "metadata": {},
   "outputs": [
    {
     "data": {
      "text/html": [
       "<div>\n",
       "<style scoped>\n",
       "    .dataframe tbody tr th:only-of-type {\n",
       "        vertical-align: middle;\n",
       "    }\n",
       "\n",
       "    .dataframe tbody tr th {\n",
       "        vertical-align: top;\n",
       "    }\n",
       "\n",
       "    .dataframe thead th {\n",
       "        text-align: right;\n",
       "    }\n",
       "</style>\n",
       "<table border=\"1\" class=\"dataframe\">\n",
       "  <thead>\n",
       "    <tr style=\"text-align: right;\">\n",
       "      <th></th>\n",
       "      <th>job title</th>\n",
       "      <th>industry</th>\n",
       "      <th>stopwords</th>\n",
       "    </tr>\n",
       "  </thead>\n",
       "  <tbody>\n",
       "    <tr>\n",
       "      <th>20</th>\n",
       "      <td>c# software developer, waltham cross, £55k</td>\n",
       "      <td>IT</td>\n",
       "      <td>0</td>\n",
       "    </tr>\n",
       "    <tr>\n",
       "      <th>47</th>\n",
       "      <td>front end javascript developer (react.js), £55...</td>\n",
       "      <td>IT</td>\n",
       "      <td>0</td>\n",
       "    </tr>\n",
       "    <tr>\n",
       "      <th>66</th>\n",
       "      <td>head of data &amp; analytics</td>\n",
       "      <td>IT</td>\n",
       "      <td>1</td>\n",
       "    </tr>\n",
       "    <tr>\n",
       "      <th>98</th>\n",
       "      <td>software developer - c# .net javascript</td>\n",
       "      <td>IT</td>\n",
       "      <td>0</td>\n",
       "    </tr>\n",
       "    <tr>\n",
       "      <th>149</th>\n",
       "      <td>experienced web &amp; systems developer</td>\n",
       "      <td>IT</td>\n",
       "      <td>0</td>\n",
       "    </tr>\n",
       "  </tbody>\n",
       "</table>\n",
       "</div>"
      ],
      "text/plain": [
       "                                             job title industry  stopwords\n",
       "20          c# software developer, waltham cross, £55k       IT          0\n",
       "47   front end javascript developer (react.js), £55...       IT          0\n",
       "66                            head of data & analytics       IT          1\n",
       "98             software developer - c# .net javascript       IT          0\n",
       "149                experienced web & systems developer       IT          0"
      ]
     },
     "execution_count": 8,
     "metadata": {},
     "output_type": "execute_result"
    }
   ],
   "source": [
    "# checking for special characters\n",
    "Job_titles[Job_titles['job title'].str.contains('[$@#%&\\(\\)]')].head()"
   ]
  },
  {
   "cell_type": "markdown",
   "id": "1c5f0a41",
   "metadata": {},
   "source": [
    "These special characters should be removed, because they will be considered as a feature and they may be mislead the model as they do not affect the type of industry"
   ]
  },
  {
   "cell_type": "markdown",
   "id": "ac0034ee",
   "metadata": {},
   "source": [
    "**3.7 most commen words**"
   ]
  },
  {
   "cell_type": "code",
   "execution_count": 9,
   "id": "2c27bd65",
   "metadata": {},
   "outputs": [
    {
     "data": {
      "text/plain": [
       "-            2100\n",
       "developer    1411\n",
       "engineer     1039\n",
       "manager       901\n",
       "marketing     881\n",
       "senior        713\n",
       "analyst       678\n",
       "support       649\n",
       "it            588\n",
       "software      587\n",
       "dtype: int64"
      ]
     },
     "execution_count": 9,
     "metadata": {},
     "output_type": "execute_result"
    }
   ],
   "source": [
    "# Listing the most comment ten words\n",
    "pd.Series(' '.join(Job_titles['job title']).split()).value_counts()[:10]"
   ]
  },
  {
   "cell_type": "markdown",
   "id": "bf04c066",
   "metadata": {},
   "source": [
    "Note the first one is '-' this is a special character and should be removed. "
   ]
  },
  {
   "cell_type": "markdown",
   "id": "c0b188cf",
   "metadata": {},
   "source": [
    "## 4. data preprocessing"
   ]
  },
  {
   "cell_type": "markdown",
   "id": "35e1af9e",
   "metadata": {},
   "source": [
    "**4.1 encoding the industry column**"
   ]
  },
  {
   "cell_type": "code",
   "execution_count": 10,
   "id": "e1c421c0",
   "metadata": {},
   "outputs": [
    {
     "data": {
      "text/html": [
       "<div>\n",
       "<style scoped>\n",
       "    .dataframe tbody tr th:only-of-type {\n",
       "        vertical-align: middle;\n",
       "    }\n",
       "\n",
       "    .dataframe tbody tr th {\n",
       "        vertical-align: top;\n",
       "    }\n",
       "\n",
       "    .dataframe thead th {\n",
       "        text-align: right;\n",
       "    }\n",
       "</style>\n",
       "<table border=\"1\" class=\"dataframe\">\n",
       "  <thead>\n",
       "    <tr style=\"text-align: right;\">\n",
       "      <th></th>\n",
       "      <th>job title</th>\n",
       "      <th>industry</th>\n",
       "      <th>stopwords</th>\n",
       "    </tr>\n",
       "  </thead>\n",
       "  <tbody>\n",
       "    <tr>\n",
       "      <th>0</th>\n",
       "      <td>technical support and helpdesk supervisor - co...</td>\n",
       "      <td>1</td>\n",
       "      <td>1</td>\n",
       "    </tr>\n",
       "    <tr>\n",
       "      <th>1</th>\n",
       "      <td>senior technical support engineer</td>\n",
       "      <td>1</td>\n",
       "      <td>0</td>\n",
       "    </tr>\n",
       "    <tr>\n",
       "      <th>2</th>\n",
       "      <td>head of it services</td>\n",
       "      <td>1</td>\n",
       "      <td>2</td>\n",
       "    </tr>\n",
       "    <tr>\n",
       "      <th>3</th>\n",
       "      <td>js front end engineer</td>\n",
       "      <td>1</td>\n",
       "      <td>0</td>\n",
       "    </tr>\n",
       "    <tr>\n",
       "      <th>4</th>\n",
       "      <td>network and telephony controller</td>\n",
       "      <td>1</td>\n",
       "      <td>1</td>\n",
       "    </tr>\n",
       "  </tbody>\n",
       "</table>\n",
       "</div>"
      ],
      "text/plain": [
       "                                           job title  industry  stopwords\n",
       "0  technical support and helpdesk supervisor - co...         1          1\n",
       "1                  senior technical support engineer         1          0\n",
       "2                                head of it services         1          2\n",
       "3                              js front end engineer         1          0\n",
       "4                   network and telephony controller         1          1"
      ]
     },
     "execution_count": 10,
     "metadata": {},
     "output_type": "execute_result"
    }
   ],
   "source": [
    "industry_mapping = {'IT':1, 'Marketing':2, 'Education':3, 'Accountancy':4}\n",
    "Job_titles['industry'] = Job_titles['industry'].map(industry_mapping)\n",
    "Job_titles.head()"
   ]
  },
  {
   "cell_type": "markdown",
   "id": "5eac8761",
   "metadata": {},
   "source": [
    "**4.2 drop duplicates**"
   ]
  },
  {
   "cell_type": "code",
   "execution_count": 11,
   "id": "9cd54167",
   "metadata": {},
   "outputs": [
    {
     "data": {
      "text/plain": [
       "(3968, 3)"
      ]
     },
     "execution_count": 11,
     "metadata": {},
     "output_type": "execute_result"
    }
   ],
   "source": [
    "Job_titles.drop_duplicates(inplace=True)\n",
    "Job_titles.shape"
   ]
  },
  {
   "cell_type": "markdown",
   "id": "5b646cca",
   "metadata": {},
   "source": [
    "### 4.3 cleaning job titles"
   ]
  },
  {
   "cell_type": "markdown",
   "id": "294cf26a",
   "metadata": {},
   "source": [
    "**remember**: as mentioned above, the pronoun it is the same spelling as IT job so I'm not going to remove it."
   ]
  },
  {
   "cell_type": "code",
   "execution_count": 12,
   "id": "25b82ae8",
   "metadata": {},
   "outputs": [
    {
     "data": {
      "text/plain": [
       "True"
      ]
     },
     "execution_count": 12,
     "metadata": {},
     "output_type": "execute_result"
    }
   ],
   "source": [
    "# check if 'it' is in 'stop_words'\n",
    "'it' in stop_words"
   ]
  },
  {
   "cell_type": "code",
   "execution_count": 13,
   "id": "f5023ea7",
   "metadata": {},
   "outputs": [
    {
     "data": {
      "text/plain": [
       "False"
      ]
     },
     "execution_count": 13,
     "metadata": {},
     "output_type": "execute_result"
    }
   ],
   "source": [
    "# so it's exist in 'stop_words', let's remove it\n",
    "stop_words.remove('it')\n",
    "# check again if 'it' is in 'stop_words' \n",
    "'it' in stop_words"
   ]
  },
  {
   "cell_type": "code",
   "execution_count": 14,
   "id": "817eb5d9",
   "metadata": {},
   "outputs": [
    {
     "data": {
      "text/plain": [
       "['i',\n",
       " 'me',\n",
       " 'my',\n",
       " 'myself',\n",
       " 'we',\n",
       " 'our',\n",
       " 'ours',\n",
       " 'ourselves',\n",
       " 'you',\n",
       " \"you're\",\n",
       " \"you've\",\n",
       " \"you'll\",\n",
       " \"you'd\",\n",
       " 'your',\n",
       " 'yours',\n",
       " 'yourself',\n",
       " 'yourselves',\n",
       " 'he',\n",
       " 'him',\n",
       " 'his',\n",
       " 'himself',\n",
       " 'she',\n",
       " \"she's\",\n",
       " 'her',\n",
       " 'hers',\n",
       " 'herself',\n",
       " \"it's\",\n",
       " 'its',\n",
       " 'itself',\n",
       " 'they',\n",
       " 'them',\n",
       " 'their',\n",
       " 'theirs',\n",
       " 'themselves',\n",
       " 'what',\n",
       " 'which',\n",
       " 'who',\n",
       " 'whom',\n",
       " 'this',\n",
       " 'that',\n",
       " \"that'll\",\n",
       " 'these',\n",
       " 'those',\n",
       " 'am',\n",
       " 'is',\n",
       " 'are',\n",
       " 'was',\n",
       " 'were',\n",
       " 'be',\n",
       " 'been',\n",
       " 'being',\n",
       " 'have',\n",
       " 'has',\n",
       " 'had',\n",
       " 'having',\n",
       " 'do',\n",
       " 'does',\n",
       " 'did',\n",
       " 'doing',\n",
       " 'a',\n",
       " 'an',\n",
       " 'the',\n",
       " 'and',\n",
       " 'but',\n",
       " 'if',\n",
       " 'or',\n",
       " 'because',\n",
       " 'as',\n",
       " 'until',\n",
       " 'while',\n",
       " 'of',\n",
       " 'at',\n",
       " 'by',\n",
       " 'for',\n",
       " 'with',\n",
       " 'about',\n",
       " 'against',\n",
       " 'between',\n",
       " 'into',\n",
       " 'through',\n",
       " 'during',\n",
       " 'before',\n",
       " 'after',\n",
       " 'above',\n",
       " 'below',\n",
       " 'to',\n",
       " 'from',\n",
       " 'up',\n",
       " 'down',\n",
       " 'in',\n",
       " 'out',\n",
       " 'on',\n",
       " 'off',\n",
       " 'over',\n",
       " 'under',\n",
       " 'again',\n",
       " 'further',\n",
       " 'then',\n",
       " 'once',\n",
       " 'here',\n",
       " 'there',\n",
       " 'when',\n",
       " 'where',\n",
       " 'why',\n",
       " 'how',\n",
       " 'all',\n",
       " 'any',\n",
       " 'both',\n",
       " 'each',\n",
       " 'few',\n",
       " 'more',\n",
       " 'most',\n",
       " 'other',\n",
       " 'some',\n",
       " 'such',\n",
       " 'no',\n",
       " 'nor',\n",
       " 'not',\n",
       " 'only',\n",
       " 'own',\n",
       " 'same',\n",
       " 'so',\n",
       " 'than',\n",
       " 'too',\n",
       " 'very',\n",
       " 's',\n",
       " 't',\n",
       " 'can',\n",
       " 'will',\n",
       " 'just',\n",
       " 'don',\n",
       " \"don't\",\n",
       " 'should',\n",
       " \"should've\",\n",
       " 'now',\n",
       " 'd',\n",
       " 'll',\n",
       " 'm',\n",
       " 'o',\n",
       " 're',\n",
       " 've',\n",
       " 'y',\n",
       " 'ain',\n",
       " 'aren',\n",
       " \"aren't\",\n",
       " 'couldn',\n",
       " \"couldn't\",\n",
       " 'didn',\n",
       " \"didn't\",\n",
       " 'doesn',\n",
       " \"doesn't\",\n",
       " 'hadn',\n",
       " \"hadn't\",\n",
       " 'hasn',\n",
       " \"hasn't\",\n",
       " 'haven',\n",
       " \"haven't\",\n",
       " 'isn',\n",
       " \"isn't\",\n",
       " 'ma',\n",
       " 'mightn',\n",
       " \"mightn't\",\n",
       " 'mustn',\n",
       " \"mustn't\",\n",
       " 'needn',\n",
       " \"needn't\",\n",
       " 'shan',\n",
       " \"shan't\",\n",
       " 'shouldn',\n",
       " \"shouldn't\",\n",
       " 'wasn',\n",
       " \"wasn't\",\n",
       " 'weren',\n",
       " \"weren't\",\n",
       " 'won',\n",
       " \"won't\",\n",
       " 'wouldn',\n",
       " \"wouldn't\"]"
      ]
     },
     "execution_count": 14,
     "metadata": {},
     "output_type": "execute_result"
    }
   ],
   "source": [
    "stop_words"
   ]
  },
  {
   "cell_type": "markdown",
   "id": "69c916a6",
   "metadata": {},
   "source": [
    "Good let's now clean the data"
   ]
  },
  {
   "cell_type": "code",
   "execution_count": 15,
   "id": "69b377e0",
   "metadata": {},
   "outputs": [],
   "source": [
    "def clean(text):\n",
    "    \"\"\"\n",
    "        this function will take text as an parameter and perform some \n",
    "        cleaning process on it like:\n",
    "            - remove all non alphabetic characters.\n",
    "            - make all words in lowercase\n",
    "            - remove stop words\n",
    "        parameters\n",
    "        ----------\n",
    "        text: text data required to be clean\n",
    "        \n",
    "        returns\n",
    "        ----------\n",
    "        text: text after cleaning\n",
    "    \"\"\"\n",
    "    \n",
    "    # remove all non alphabetic characters\n",
    "    text = re.sub('[^A-Za-z]', ' ', text)\n",
    "    \n",
    "    # make all words in lowercase and split the text in words list\n",
    "    words = text.lower().split()\n",
    "    \n",
    "    # loop for every word in words and check if it isn't in 'stop_words', then add it to 'wanted_words' list\n",
    "    wanted_words = []\n",
    "    for word in words:\n",
    "        if word not in stop_words:\n",
    "            # there are job titles have salary in our data, like £55k after removeing the number and the \n",
    "            # special character £, there is only 'k', I want to remove this also.\n",
    "            # so I will remove any word that have only one character\n",
    "            if len(word) > 1:\n",
    "                wanted_words.append(word)\n",
    "            \n",
    "    # join the words again to put them in a cleanes text.\n",
    "    return ' '.join(wanted_words)"
   ]
  },
  {
   "cell_type": "code",
   "execution_count": 16,
   "id": "f1a3fb0d",
   "metadata": {},
   "outputs": [
    {
     "data": {
      "text/plain": [
       "'front end javascript developer react js days remote day ascot'"
      ]
     },
     "execution_count": 16,
     "metadata": {},
     "output_type": "execute_result"
    }
   ],
   "source": [
    "# testing clean function \n",
    "clean(\"front end javascript developer (react.js), £55k, 4 days remote, 1 day ascot\")"
   ]
  },
  {
   "cell_type": "markdown",
   "id": "3e3b40a7",
   "metadata": {},
   "source": [
    "It seems to be working properly. let's apply it to the data."
   ]
  },
  {
   "cell_type": "code",
   "execution_count": 17,
   "id": "fe8cf268",
   "metadata": {},
   "outputs": [
    {
     "data": {
      "text/html": [
       "<div>\n",
       "<style scoped>\n",
       "    .dataframe tbody tr th:only-of-type {\n",
       "        vertical-align: middle;\n",
       "    }\n",
       "\n",
       "    .dataframe tbody tr th {\n",
       "        vertical-align: top;\n",
       "    }\n",
       "\n",
       "    .dataframe thead th {\n",
       "        text-align: right;\n",
       "    }\n",
       "</style>\n",
       "<table border=\"1\" class=\"dataframe\">\n",
       "  <thead>\n",
       "    <tr style=\"text-align: right;\">\n",
       "      <th></th>\n",
       "      <th>job title</th>\n",
       "      <th>industry</th>\n",
       "      <th>stopwords</th>\n",
       "      <th>clean job title</th>\n",
       "    </tr>\n",
       "  </thead>\n",
       "  <tbody>\n",
       "    <tr>\n",
       "      <th>0</th>\n",
       "      <td>technical support and helpdesk supervisor - co...</td>\n",
       "      <td>1</td>\n",
       "      <td>1</td>\n",
       "      <td>technical support helpdesk supervisor county b...</td>\n",
       "    </tr>\n",
       "    <tr>\n",
       "      <th>1</th>\n",
       "      <td>senior technical support engineer</td>\n",
       "      <td>1</td>\n",
       "      <td>0</td>\n",
       "      <td>senior technical support engineer</td>\n",
       "    </tr>\n",
       "    <tr>\n",
       "      <th>2</th>\n",
       "      <td>head of it services</td>\n",
       "      <td>1</td>\n",
       "      <td>2</td>\n",
       "      <td>head it services</td>\n",
       "    </tr>\n",
       "    <tr>\n",
       "      <th>3</th>\n",
       "      <td>js front end engineer</td>\n",
       "      <td>1</td>\n",
       "      <td>0</td>\n",
       "      <td>js front end engineer</td>\n",
       "    </tr>\n",
       "    <tr>\n",
       "      <th>4</th>\n",
       "      <td>network and telephony controller</td>\n",
       "      <td>1</td>\n",
       "      <td>1</td>\n",
       "      <td>network telephony controller</td>\n",
       "    </tr>\n",
       "  </tbody>\n",
       "</table>\n",
       "</div>"
      ],
      "text/plain": [
       "                                           job title  industry  stopwords  \\\n",
       "0  technical support and helpdesk supervisor - co...         1          1   \n",
       "1                  senior technical support engineer         1          0   \n",
       "2                                head of it services         1          2   \n",
       "3                              js front end engineer         1          0   \n",
       "4                   network and telephony controller         1          1   \n",
       "\n",
       "                                     clean job title  \n",
       "0  technical support helpdesk supervisor county b...  \n",
       "1                  senior technical support engineer  \n",
       "2                                   head it services  \n",
       "3                              js front end engineer  \n",
       "4                       network telephony controller  "
      ]
     },
     "execution_count": 17,
     "metadata": {},
     "output_type": "execute_result"
    }
   ],
   "source": [
    "Job_titles['clean job title'] = Job_titles['job title'].apply(clean)\n",
    "Job_titles.head()"
   ]
  },
  {
   "cell_type": "markdown",
   "id": "b77e6277",
   "metadata": {},
   "source": [
    "**4.4 Tokenization**\n",
    "\n",
    "    it's the time to transform text('clean job title' column) into a meaningful representation of numbers which is used   to fit machine algorithm for prediction."
   ]
  },
  {
   "cell_type": "code",
   "execution_count": 18,
   "id": "d7014d79",
   "metadata": {},
   "outputs": [
    {
     "name": "stdout",
     "output_type": "stream",
     "text": [
      "(3968, 1877)\n"
     ]
    },
    {
     "data": {
      "text/plain": [
       "array([[0., 0., 0., ..., 0., 0., 0.],\n",
       "       [0., 0., 0., ..., 0., 0., 0.],\n",
       "       [0., 0., 0., ..., 0., 0., 0.],\n",
       "       ...,\n",
       "       [0., 0., 0., ..., 0., 0., 0.],\n",
       "       [0., 0., 0., ..., 0., 0., 0.],\n",
       "       [0., 0., 0., ..., 0., 0., 0.]])"
      ]
     },
     "execution_count": 18,
     "metadata": {},
     "output_type": "execute_result"
    }
   ],
   "source": [
    "tf_idf = TfidfVectorizer()\n",
    "X = tf_idf.fit_transform(Job_titles['clean job title'])\n",
    "\n",
    "# TfidfVectorizer produce a spars matrix, we need to convert it to array using .toarray() method\n",
    "X = X.toarray()\n",
    "print(X.shape)\n",
    "X"
   ]
  },
  {
   "cell_type": "code",
   "execution_count": 19,
   "id": "be894c5a",
   "metadata": {},
   "outputs": [],
   "source": [
    "y = Job_titles['industry']"
   ]
  },
  {
   "cell_type": "markdown",
   "id": "6ec63cc1",
   "metadata": {},
   "source": [
    "## 5. Modeling\n",
    "\n",
    "**5.1 split the data into train and test**"
   ]
  },
  {
   "cell_type": "code",
   "execution_count": 20,
   "id": "e836eeb3",
   "metadata": {},
   "outputs": [],
   "source": [
    "X_train, X_test, y_train, y_test = train_test_split(X, y, test_size = 0.3, random_state=42, stratify=y)"
   ]
  },
  {
   "cell_type": "markdown",
   "id": "09786f4c",
   "metadata": {},
   "source": [
    "**5.2 build a model** "
   ]
  },
  {
   "cell_type": "code",
   "execution_count": 21,
   "id": "bb8869f5",
   "metadata": {},
   "outputs": [
    {
     "data": {
      "text/plain": [
       "MultinomialNB()"
      ]
     },
     "execution_count": 21,
     "metadata": {},
     "output_type": "execute_result"
    }
   ],
   "source": [
    "clf = MultinomialNB()\n",
    "clf.fit(X_train, y_train)"
   ]
  },
  {
   "cell_type": "markdown",
   "id": "f77a6272",
   "metadata": {},
   "source": [
    "**5.3 evaluate the model**"
   ]
  },
  {
   "cell_type": "code",
   "execution_count": 22,
   "id": "09a41b49",
   "metadata": {},
   "outputs": [
    {
     "name": "stdout",
     "output_type": "stream",
     "text": [
      "Train score = 0.8995318689232985\n",
      "Test score = 0.8606213266162889\n"
     ]
    }
   ],
   "source": [
    "print(f'Train score = {clf.score(X_train, y_train)}')\n",
    "print(f'Test score = {clf.score(X_test, y_test)}')"
   ]
  },
  {
   "cell_type": "markdown",
   "id": "e178eda9",
   "metadata": {},
   "source": [
    "    The accuracy score is pretty good. but wait, this is an imbalanced data so the accuracy score is not a good choice for evaluation here. let's use f1_score and see the confusion matrix."
   ]
  },
  {
   "cell_type": "code",
   "execution_count": 23,
   "id": "37aaa820",
   "metadata": {},
   "outputs": [
    {
     "data": {
      "image/png": "[encoded data removed]",
      "text/plain": [
       "<Figure size 432x288 with 1 Axes>"
      ]
     },
     "metadata": {
      "needs_background": "light"
     },
     "output_type": "display_data"
    }
   ],
   "source": [
    "import seaborn as sns\n",
    "y_pred = clf.predict(X_test)\n",
    "mat = confusion_matrix(y_test, y_pred, normalize='true')\n",
    "industries = ['IT', 'Marketing', 'Education', 'Accountancy']\n",
    "\n",
    "g = sns.heatmap(mat, square=True, annot=True, cbar=False, xticklabels=industries, yticklabels=industries)\n",
    "g.set_yticklabels(g.get_yticklabels(), rotation = 0, fontsize = 12)\n",
    "g.set_xticklabels(g.get_yticklabels(), rotation = 90, fontsize = 12)\n",
    "g.xaxis.tick_top()\n",
    "g.xaxis.set_label_position('top')\n",
    "plt.xlabel('true label', fontsize = 15)\n",
    "plt.ylabel('predicted label', fontsize = 15);"
   ]
  },
  {
   "cell_type": "markdown",
   "id": "99f99133",
   "metadata": {},
   "source": [
    "    As we expected, the model is very good at the majorty class but the accuracy decreasing in small classes\n",
    "    look at Accountancy class, the model recognize only 0.41 of the data of this class."
   ]
  },
  {
   "cell_type": "code",
   "execution_count": 24,
   "id": "d8605d3c",
   "metadata": {},
   "outputs": [
    {
     "name": "stdout",
     "output_type": "stream",
     "text": [
      "              precision    recall  f1-score   support\n",
      "\n",
      "           1       0.88      0.92      0.90       459\n",
      "           2       0.78      0.90      0.84       361\n",
      "           3       0.95      0.84      0.89       292\n",
      "           4       0.97      0.41      0.57        79\n",
      "\n",
      "    accuracy                           0.86      1191\n",
      "   macro avg       0.89      0.77      0.80      1191\n",
      "weighted avg       0.87      0.86      0.86      1191\n",
      "\n"
     ]
    }
   ],
   "source": [
    "print(classification_report(y_test, y_pred))"
   ]
  },
  {
   "cell_type": "code",
   "execution_count": 25,
   "id": "bbdbb707",
   "metadata": {},
   "outputs": [
    {
     "data": {
      "text/plain": [
       "array([0.89925769, 0.83655084, 0.88727273, 0.57142857])"
      ]
     },
     "execution_count": 25,
     "metadata": {},
     "output_type": "execute_result"
    }
   ],
   "source": [
    "# f1_score for each class\n",
    "f1_score(y_test, y_pred, average=None)"
   ]
  },
  {
   "cell_type": "code",
   "execution_count": 26,
   "id": "a01f4a6f",
   "metadata": {},
   "outputs": [
    {
     "data": {
      "text/plain": [
       "0.8555672748937718"
      ]
     },
     "execution_count": 26,
     "metadata": {},
     "output_type": "execute_result"
    }
   ],
   "source": [
    "# f1_score overall\n",
    "f1_score(y_test, clf.predict(X_test), average='weighted')"
   ]
  },
  {
   "cell_type": "markdown",
   "id": "7b6fd8ee",
   "metadata": {},
   "source": [
    "### 6. Dealing with imbalanced data and try the model again\n",
    "\n",
    "    There are many ways to deal with imbalanced data. here I will use a technique called SMOTE to make oversampling that would make the minority classes as the same length as the majority"
   ]
  },
  {
   "cell_type": "code",
   "execution_count": 27,
   "id": "66c4b998",
   "metadata": {},
   "outputs": [
    {
     "data": {
      "text/plain": [
       "1    1529\n",
       "2    1203\n",
       "3     973\n",
       "4     263\n",
       "Name: industry, dtype: int64"
      ]
     },
     "execution_count": 27,
     "metadata": {},
     "output_type": "execute_result"
    }
   ],
   "source": [
    "pd.Series(y).value_counts()"
   ]
  },
  {
   "cell_type": "code",
   "execution_count": 28,
   "id": "4e527d8d",
   "metadata": {},
   "outputs": [],
   "source": [
    "from imblearn.over_sampling import SMOTE"
   ]
  },
  {
   "cell_type": "markdown",
   "id": "247c4d3c",
   "metadata": {},
   "source": [
    "if I let the hyperparameter `sampling_strategy` with its default value, it will generate instances in each class that make it with the same number of the majority class. but I want the number of instances each class to be just close to each other.\n",
    "it's not necessary to be the same number of instances. I only try to avoid generating many instances which might make the model overfit the data."
   ]
  },
  {
   "cell_type": "code",
   "execution_count": 61,
   "id": "8a3b2611",
   "metadata": {},
   "outputs": [],
   "source": [
    "oversample = SMOTE(sampling_strategy={1:1529, 2:1500, 3:1300, 4:1000}, random_state=0)\n",
    "X_smote, y_smote = oversample.fit_resample(X, y)"
   ]
  },
  {
   "cell_type": "code",
   "execution_count": 62,
   "id": "1a2e8486",
   "metadata": {},
   "outputs": [
    {
     "data": {
      "text/plain": [
       "1    1529\n",
       "2    1500\n",
       "3    1300\n",
       "4    1000\n",
       "Name: industry, dtype: int64"
      ]
     },
     "execution_count": 62,
     "metadata": {},
     "output_type": "execute_result"
    }
   ],
   "source": [
    "pd.Series(y_smote).value_counts()"
   ]
  },
  {
   "cell_type": "code",
   "execution_count": 63,
   "id": "d97de1ec",
   "metadata": {},
   "outputs": [
    {
     "data": {
      "text/plain": [
       "((5329, 1877), (5329,))"
      ]
     },
     "execution_count": 63,
     "metadata": {},
     "output_type": "execute_result"
    }
   ],
   "source": [
    "X_smote.shape, y_smote.shape"
   ]
  },
  {
   "cell_type": "code",
   "execution_count": 64,
   "id": "f956516c",
   "metadata": {},
   "outputs": [],
   "source": [
    "X_train, X_test, y_train, y_test = train_test_split(X_smote, y_smote, test_size = 0.3, random_state=42, stratify=y_smote)"
   ]
  },
  {
   "cell_type": "markdown",
   "id": "2973e777",
   "metadata": {},
   "source": [
    "**5.2 build a model** "
   ]
  },
  {
   "cell_type": "code",
   "execution_count": 65,
   "id": "7902489e",
   "metadata": {},
   "outputs": [
    {
     "data": {
      "text/plain": [
       "MultinomialNB()"
      ]
     },
     "execution_count": 65,
     "metadata": {},
     "output_type": "execute_result"
    }
   ],
   "source": [
    "clf_smote = MultinomialNB()\n",
    "clf_smote.fit(X_train, y_train)"
   ]
  },
  {
   "cell_type": "markdown",
   "id": "eb59bb3f",
   "metadata": {},
   "source": [
    "**5.3 evaluate the model**"
   ]
  },
  {
   "cell_type": "code",
   "execution_count": 66,
   "id": "6d6494b7",
   "metadata": {},
   "outputs": [
    {
     "name": "stdout",
     "output_type": "stream",
     "text": [
      "Train score = 0.9276139410187667\n",
      "Test score = 0.9093183239524703\n"
     ]
    }
   ],
   "source": [
    "print(f'Train score = {clf_smote.score(X_train, y_train)}')\n",
    "print(f'Test score = {clf_smote.score(X_test, y_test)}')"
   ]
  },
  {
   "cell_type": "code",
   "execution_count": 67,
   "id": "f21ff4ff",
   "metadata": {},
   "outputs": [
    {
     "data": {
      "image/png": "[encoded data removed]",
      "text/plain": [
       "<Figure size 432x288 with 1 Axes>"
      ]
     },
     "metadata": {
      "needs_background": "light"
     },
     "output_type": "display_data"
    }
   ],
   "source": [
    "y_pred = clf_smote.predict(X_test)\n",
    "mat = confusion_matrix(y_test, y_pred, normalize='true')\n",
    "industries = ['IT', 'Marketing', 'Education', 'Accountancy']\n",
    "\n",
    "g = sns.heatmap(mat, square=True, annot=True, cbar=False, xticklabels=industries, yticklabels=industries)\n",
    "g.set_yticklabels(g.get_yticklabels(), rotation = 0, fontsize = 12)\n",
    "g.set_xticklabels(g.get_yticklabels(), rotation = 90, fontsize = 12)\n",
    "g.xaxis.tick_top()\n",
    "g.xaxis.set_label_position('top')\n",
    "plt.xlabel('true label', fontsize = 15)\n",
    "plt.ylabel('predicted label', fontsize = 15);"
   ]
  },
  {
   "cell_type": "markdown",
   "id": "d35efa9a",
   "metadata": {},
   "source": [
    "    We can see the difference now, almost all classes have a good accuracy"
   ]
  },
  {
   "cell_type": "code",
   "execution_count": 68,
   "id": "52ee522f",
   "metadata": {
    "scrolled": true
   },
   "outputs": [
    {
     "name": "stdout",
     "output_type": "stream",
     "text": [
      "              precision    recall  f1-score   support\n",
      "\n",
      "           1       0.91      0.90      0.91       459\n",
      "           2       0.85      0.91      0.88       450\n",
      "           3       0.97      0.88      0.92       390\n",
      "           4       0.94      0.97      0.95       300\n",
      "\n",
      "    accuracy                           0.91      1599\n",
      "   macro avg       0.92      0.91      0.91      1599\n",
      "weighted avg       0.91      0.91      0.91      1599\n",
      "\n"
     ]
    }
   ],
   "source": [
    "print(classification_report(y_test, y_pred))"
   ]
  },
  {
   "cell_type": "code",
   "execution_count": 69,
   "id": "dc16b883",
   "metadata": {},
   "outputs": [
    {
     "data": {
      "text/plain": [
       "array([0.90549451, 0.87700535, 0.92059219, 0.95081967])"
      ]
     },
     "execution_count": 69,
     "metadata": {},
     "output_type": "execute_result"
    }
   ],
   "source": [
    "# f1_score for each class\n",
    "f1_score(y_test, y_pred, average=None)"
   ]
  },
  {
   "cell_type": "code",
   "execution_count": 70,
   "id": "53c87df6",
   "metadata": {},
   "outputs": [
    {
     "data": {
      "text/plain": [
       "0.9096630654558466"
      ]
     },
     "execution_count": 70,
     "metadata": {},
     "output_type": "execute_result"
    }
   ],
   "source": [
    "# f1_score overall\n",
    "f1_score(y_test, y_pred, average='weighted')"
   ]
  },
  {
   "cell_type": "markdown",
   "id": "6d3548eb",
   "metadata": {},
   "source": [
    "As we saw, accuracy is deceptive with the imbalanced data. so we have to use another metric like: f1_score, precision or recall.\n",
    "\n",
    "\n",
    "\n",
    "finally, I will wrap up all this in a class in a python file and then build the API to use this class. see `IndustryClassification.py` and `API.py` files"
   ]
  },
  {
   "cell_type": "markdown",
   "id": "9becebac",
   "metadata": {},
   "source": [
    "### references:\n",
    "https://machinelearningmastery.com/smote-oversampling-for-imbalanced-classification/<br>\n",
    "https://docs.microsoft.com/en-us/azure/machine-learning/studio-module-reference/smote<br>\n",
    "https://www.upgrad.com/blog/multinomial-naive-bayes-explained/<br>\n",
    "https://towardsdatascience.com/creating-restful-apis-using-flask-and-python-655bad51b24<br>\n",
    "https://youtube.com/watch?v=UbCWoMf80PY&feature=share<br>"
   ]
  },
  {
   "cell_type": "code",
   "execution_count": null,
   "id": "669e487b",
   "metadata": {},
   "outputs": [],
   "source": []
  }
 ],
 "metadata": {
  "kernelspec": {
   "display_name": "Python 3",
   "language": "python",
   "name": "python3"
  },
  "language_info": {
   "codemirror_mode": {
    "name": "ipython",
    "version": 3
   },
   "file_extension": ".py",
   "mimetype": "text/x-python",
   "name": "python",
   "nbconvert_exporter": "python",
   "pygments_lexer": "ipython3",
   "version": "3.8.8"
  }
 },
 "nbformat": 4,
 "nbformat_minor": 5
}
