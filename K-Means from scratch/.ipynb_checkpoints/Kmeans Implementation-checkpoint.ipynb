{
 "cells": [
  {
   "cell_type": "markdown",
   "metadata": {},
   "source": [
    "# K-means Clustering\n",
    "In this exercise, I will implement K-means algorithm from scratch."
   ]
  },
  {
   "cell_type": "code",
   "execution_count": 1,
   "metadata": {},
   "outputs": [],
   "source": [
    "import numpy as np\n",
    "import matplotlib.pyplot as plt\n",
    "import seaborn as sns\n",
    "from scipy.io import loadmat"
   ]
  },
  {
   "cell_type": "markdown",
   "metadata": {},
   "source": [
    "# 1 K-means Clustering\n",
    "\n",
    "The K-means algorithm is a method to automatically cluster similar data examples together. Concretely, you are given a training set $\\{x^{(1)} , \\cdots, x^{(m)}\\}$ (where $x^{(i)} \\in \\mathbb{R}^n$), and want to group the data into a few cohesive “clusters”. The intuition behind K-means is an iterative procedure that starts by guessing the initial centroids, and then refines this guess by repeatedly assigning examples to their closest centroids and then recomputing the centroids based on the assignments.\n",
    "\n",
    "The K-means algorithm is as follows:\n",
    "\n",
    "```python\n",
    "centroids = kMeansInitCentroids(X, K)\n",
    "for i in range(iterations):\n",
    "    # Cluster assignment step: Assign each data point to the\n",
    "    # closest centroid. idx[i] corresponds to cˆ(i), the index\n",
    "    # of the centroid assigned to example i\n",
    "    idx = findClosestCentroids(X, centroids)\n",
    "    \n",
    "    # Move centroid step: Compute means based on centroid\n",
    "    # assignments\n",
    "    centroids = computeMeans(X, idx, K)\n",
    "```\n",
    "\n",
    "The inner-loop of the algorithm repeatedly carries out two steps:\n",
    "* (1) Assigning each training example $x^{(i)}$ to its closest centroid\n",
    "* (2) Recomputing the mean of each centroid using the points assigned to it. \n",
    "\n",
    "The K-means algorithm will always converge to some final set of means for the centroids. Note that the converged solution may not always be ideal and depends on the initial setting of the centroids. Therefore, in practice the K-means algorithm is usually run a few times with different random initializations. One way to choose between these different solutions from different random initializations is to choose the one with the lowest cost function value (distortion). You will implement the two phases of the K-means algorithm separately\n",
    "in the next sections."
   ]
  },
  {
   "cell_type": "markdown",
   "metadata": {},
   "source": [
    "## Finding closest centroids\n",
    "\n",
    "In the “cluster assignment” phase of the K-means algorithm, the algorithm assigns every training example $x^{(i)}$ to its closest centroid, given the current positions of centroids. Specifically, for every example $i$ we set\n",
    "\n",
    "$$c^{(i)} := j \\quad \\text{that minimizes} \\quad \\lvert\\rvert x^{(i)} - \\mu_j  \\lvert\\rvert^2, $$\n",
    "\n",
    "where $c^{(i)}$ is the index of the centroid that is closest to $x^{(i)}$, and $\\mu_j$ is the position (value) of the $j^{th}$ centroid. Note that $c^{(i)}$ corresponds to `idx[i]` in the starter code.\n",
    "\n",
    "We have to implement the function `findClosestCentroids`. This function takes the data matrix `X` and the locations of all centroids inside `centroids` and should output a one-dimensional array `idx` that holds the index (a value in $\\{1, ..., K\\}$, where $K$ is total number of centroids) of the closest centroid to every training example.\n"
   ]
  },
  {
   "cell_type": "code",
   "execution_count": 2,
   "metadata": {},
   "outputs": [],
   "source": [
    "def findClosestCentroids(X, centroids):\n",
    "    \"\"\"\n",
    "    Computes the centroid memberships for every example.\n",
    "    \n",
    "    Parameters\n",
    "    ----------\n",
    "    X : array_like\n",
    "        The dataset of size (m, n) where each row is a single example. \n",
    "        That is, we have m examples each of n dimensions.\n",
    "        \n",
    "    centroids : array_like\n",
    "        The k-means centroids of size (K, n). K is the number\n",
    "        of clusters, and n is the the data dimension.\n",
    "    \n",
    "    Returns\n",
    "    -------\n",
    "    idx : array_like\n",
    "        A vector of size (m, ) which holds the centroids assignment for each\n",
    "        example (row) in the dataset X.\n",
    "    \n",
    "    Instructions\n",
    "    ------------\n",
    "    Go over every example, find its closest centroid, and store\n",
    "    the index inside `idx` at the appropriate location.\n",
    "    Concretely, idx[i] should contain the index of the centroid\n",
    "    closest to example i. Hence, it should be a value in the \n",
    "    range 0..K-1\n",
    "    \"\"\"\n",
    "    idx = np.empty(X.shape[0])\n",
    "    \n",
    "    # loop for each instance in the dataset to calculate its distance with each centroid \n",
    "    # and then choose the centroid with the smallest distance to be its centroid.\n",
    "    for i, row_data in enumerate(X):\n",
    "        distance = []\n",
    "        for j, row_centroid in enumerate(centroids):\n",
    "            #compute the euclidean distance between the instance and the centroid\n",
    "            squared_diff = (row_data - row_centroid)**2\n",
    "            euclidean_distance = np.sqrt(np.sum(squared_diff))\n",
    "            \n",
    "            distance.append(euclidean_distance)\n",
    "            \n",
    "        # put the index(centroid) with the minimum distance in the idx array.\n",
    "        idx[i] = np.argmin(distance)\n",
    "    \n",
    "    return idx"
   ]
  },
  {
   "cell_type": "markdown",
   "metadata": {},
   "source": [
    "Once we have completed the code in `findClosestCentroids`, the following cell will run our code and we should see the output `[0 2 1]` corresponding to the centroid assignments for the first 3 examples."
   ]
  },
  {
   "cell_type": "code",
   "execution_count": 6,
   "metadata": {},
   "outputs": [
    {
     "name": "stdout",
     "output_type": "stream",
     "text": [
      "[[1.84207953 4.6075716 ]\n",
      " [5.65858312 4.79996405]\n",
      " [6.35257892 3.2908545 ]\n",
      " [2.90401653 4.61220411]\n",
      " [3.23197916 4.93989405]]\n",
      "Closest centroids for the first 3 examples: [0. 2. 1.]\n"
     ]
    }
   ],
   "source": [
    "# Load an example dataset that we will be using\n",
    "data = loadmat('datafile.mat')\n",
    "data = data['X']\n",
    "print(data[:5, :])\n",
    "# Select an initial set of centroids\n",
    "K = 3   # 3 Centroids\n",
    "initial_centroids = np.array([[3, 3], [6, 2], [8, 5]])\n",
    "\n",
    "# Find the closest centroids for the examples using the initial_centroids\n",
    "idx = findClosestCentroids(data, initial_centroids)\n",
    "\n",
    "print('Closest centroids for the first 3 examples:', idx[:3])"
   ]
  },
  {
   "cell_type": "markdown",
   "metadata": {},
   "source": [
    "<a id=\"section2\"></a>\n",
    "## Computing centroid means\n",
    "\n",
    "Given assignments of every point to a centroid, the second phase of the algorithm recomputes, for each centroid, the mean of the points that were assigned to it. Specifically, for every centroid $k$ we set\n",
    "\n",
    "$$ \\mu_k := \\frac{1}{\\left| C_k\\right|} \\sum_{i \\in C_k} x^{(i)}$$\n",
    "\n",
    "where $C_k$ is the set of examples that are assigned to centroid $k$. Concretely, if two examples say $x^{(3)}$ and $x^{(5)}$ are assigned to centroid $k = 2$, then we should update $\\mu_2 = \\frac{1}{2} \\left( x^{(3)} + x^{(5)} \\right)$.\n",
    "\n"
   ]
  },
  {
   "cell_type": "code",
   "execution_count": 5,
   "metadata": {},
   "outputs": [],
   "source": [
    "def computeCentroids(X, idx, K):\n",
    "    \"\"\"\n",
    "    Returns the new centroids by computing the means of the data points\n",
    "    assigned to each centroid.\n",
    "    \n",
    "    Parameters\n",
    "    ----------\n",
    "    X : array_like\n",
    "        The datset where each row is a single data point. That is, it \n",
    "        is a matrix of size (m, n) where there are m datapoints each\n",
    "        having n dimensions. \n",
    "    \n",
    "    idx : array_like \n",
    "        A vector (size m) of centroid assignments (i.e. each entry in range [0 ... K-1])\n",
    "        for each example.\n",
    "    \n",
    "    K : int\n",
    "        Number of clusters\n",
    "    \n",
    "    Returns\n",
    "    -------\n",
    "    centroids : array_like\n",
    "        A matrix of size (K, n) where each row is the mean of the data \n",
    "        points assigned to it.\n",
    "    \n",
    "    Instructions\n",
    "    ------------\n",
    "    Go over every centroid and compute mean of all points that\n",
    "    belong to it. Concretely, the row vector centroids[i, :]\n",
    "    should contain the mean of the data points assigned to\n",
    "    cluster i.\n",
    "    \"\"\"\n",
    "    # centroid shape is (k, n)\n",
    "    centroids = np.empty((K, X.shape[1]))\n",
    "    \n",
    "    # loop for each centroid and update it with the mean of all points that belong to it\n",
    "    for centroid in range(K):\n",
    "        # get indices that belong to this centroid\n",
    "        centroid_mask = (idx == centroid)\n",
    "        # count number of instances belong to this centroid\n",
    "        Ck = sum(centroid_mask)\n",
    "        # calculate the mean of all instances\n",
    "        new_centroid = (1/Ck) * np.sum(X[centroid_mask], axis=0)\n",
    "        centroids[centroid] = new_centroid\n",
    "   \n",
    "    return centroids"
   ]
  },
  {
   "cell_type": "markdown",
   "metadata": {},
   "source": [
    "Once we have completed the code in `computeCentroids`, the following cell will run our code and output the centroids after the first step of K-means."
   ]
  },
  {
   "cell_type": "code",
   "execution_count": 7,
   "metadata": {},
   "outputs": [
    {
     "name": "stdout",
     "output_type": "stream",
     "text": [
      "Centroids computed after initial finding of closest centroids:\n",
      "[[2.42830111 3.15792418]\n",
      " [5.81350331 2.63365645]\n",
      " [7.11938687 3.6166844 ]]\n"
     ]
    }
   ],
   "source": [
    "# Compute means based on the closest centroids found in the previous part.\n",
    "centroids = computeCentroids(data, idx, K)\n",
    "\n",
    "print('Centroids computed after initial finding of closest centroids:')\n",
    "print(centroids)"
   ]
  },
  {
   "cell_type": "markdown",
   "metadata": {},
   "source": []
  },
  {
   "cell_type": "code",
   "execution_count": 8,
   "metadata": {},
   "outputs": [],
   "source": [
    "def k_kmeans(X, n_clusters = 2):\n",
    "    # intialize the centroids, its shape should be (k, n) where k is number of clusters and n is number of features\n",
    "    # centroids values should be random numbers between minimum and maximum nubmer of the dataset.\n",
    "    # Note: If you are not lucky and the centroids are too close to each other, it will cause problems in the clustring\n",
    "    centroids = np.random.randint(data.min(), data.max(), size=(n_clusters, X.shape[1]))\n",
    "    \n",
    "    for i in range(20):\n",
    "        # find the closest centriod for each instance\n",
    "        idx = findClosestCentroids(X, centroids)\n",
    "        \n",
    "        # update the centroids\n",
    "        old_centroids = centroids\n",
    "        centroids = computeCentroids(X, idx, n_clusters)\n",
    "        \n",
    "        # If the new centroids do not move as much from the old ones, so stop updating\n",
    "        if np.linalg.norm(old_centroids - centroids) < 0.1:\n",
    "            break\n",
    "    return idx"
   ]
  },
  {
   "cell_type": "code",
   "execution_count": 9,
   "metadata": {},
   "outputs": [],
   "source": [
    "classes = k_kmeans(data, 3)"
   ]
  },
  {
   "cell_type": "code",
   "execution_count": 11,
   "metadata": {},
   "outputs": [
    {
     "data": {
      "image/png": "[encoded data removed]",
      "text/plain": [
       "<Figure size 432x288 with 1 Axes>"
      ]
     },
     "metadata": {
      "needs_background": "light"
     },
     "output_type": "display_data"
    }
   ],
   "source": [
    "sns.scatterplot(x=data[:,0], y=data[:,1], hue=classes);"
   ]
  },
  {
   "cell_type": "code",
   "execution_count": null,
   "metadata": {},
   "outputs": [],
   "source": []
  }
 ],
 "metadata": {
  "kernelspec": {
   "display_name": "Python 3",
   "language": "python",
   "name": "python3"
  },
  "language_info": {
   "codemirror_mode": {
    "name": "ipython",
    "version": 3
   },
   "file_extension": ".py",
   "mimetype": "text/x-python",
   "name": "python",
   "nbconvert_exporter": "python",
   "pygments_lexer": "ipython3",
   "version": "3.8.8"
  },
  "toc": {
   "base_numbering": 1,
   "nav_menu": {},
   "number_sections": true,
   "sideBar": true,
   "skip_h1_title": false,
   "title_cell": "Table of Contents",
   "title_sidebar": "Contents",
   "toc_cell": false,
   "toc_position": {},
   "toc_section_display": true,
   "toc_window_display": false
  }
 },
 "nbformat": 4,
 "nbformat_minor": 2
}
